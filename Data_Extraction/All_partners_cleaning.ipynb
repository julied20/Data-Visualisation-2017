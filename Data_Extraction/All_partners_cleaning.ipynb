{
 "cells": [
  {
   "cell_type": "code",
   "execution_count": 25,
   "metadata": {},
   "outputs": [
    {
     "name": "stdout",
     "output_type": "stream",
     "text": [
      "The autoreload extension is already loaded. To reload it, use:\n",
      "  %reload_ext autoreload\n"
     ]
    }
   ],
   "source": [
    "# Plot figures in the notebook (instead of a new window)\n",
    "%matplotlib notebook\n",
    "\n",
    "# Automatically reload modules\n",
    "%load_ext autoreload\n",
    "%autoreload 2        \n",
    "\n",
    "# The usual imports\n",
    "import matplotlib.pyplot as plt\n",
    "import numpy as np\n",
    "import pandas as pd\n",
    "import os"
   ]
  },
  {
   "cell_type": "code",
   "execution_count": 26,
   "metadata": {},
   "outputs": [],
   "source": [
    "name = 'france_wine'\n",
    "path = 'datasets/france_wine/'\n",
    "original_csv = ['france_wine_1994_1995_1996_1997_1998.csv', 'france_wine_1999_2000_2001_2002_2003.csv', \n",
    "                'france_wine_2004_2005_2006_2007_2008.csv', 'france_wine_2009_2010_2011_2012_2013.csv',\n",
    "                'france_wine_2014_2015_2016.csv']\n",
    "all_csv = []\n",
    "for files in original_csv:\n",
    "    df = pd.read_csv(path + files,index_col=None, header=0)\n",
    "    all_csv.append(df)\n",
    "\n",
    "df = pd.concat(all_csv)"
   ]
  },
  {
   "cell_type": "code",
   "execution_count": 27,
   "metadata": {},
   "outputs": [],
   "source": [
    "final_df;"
   ]
  },
  {
   "cell_type": "code",
   "execution_count": 28,
   "metadata": {},
   "outputs": [
    {
     "data": {
      "text/html": [
       "<div>\n",
       "<style>\n",
       "    .dataframe thead tr:only-child th {\n",
       "        text-align: right;\n",
       "    }\n",
       "\n",
       "    .dataframe thead th {\n",
       "        text-align: left;\n",
       "    }\n",
       "\n",
       "    .dataframe tbody tr th {\n",
       "        vertical-align: top;\n",
       "    }\n",
       "</style>\n",
       "<table border=\"1\" class=\"dataframe\">\n",
       "  <thead>\n",
       "    <tr style=\"text-align: right;\">\n",
       "      <th></th>\n",
       "      <th>Year</th>\n",
       "      <th>Weight</th>\n",
       "      <th>Value</th>\n",
       "      <th>Commodity</th>\n",
       "      <th>Partner</th>\n",
       "      <th>PartnerISO</th>\n",
       "    </tr>\n",
       "  </thead>\n",
       "  <tbody>\n",
       "    <tr>\n",
       "      <th>548</th>\n",
       "      <td>1994</td>\n",
       "      <td>25596</td>\n",
       "      <td>368919</td>\n",
       "      <td>Grape wines(including fortified), alcoholic gr...</td>\n",
       "      <td>Algeria</td>\n",
       "      <td>DZA</td>\n",
       "    </tr>\n",
       "    <tr>\n",
       "      <th>665</th>\n",
       "      <td>1994</td>\n",
       "      <td>38710</td>\n",
       "      <td>252695</td>\n",
       "      <td>Grape wines(including fortified), alcoholic gr...</td>\n",
       "      <td>Vanuatu</td>\n",
       "      <td>VUT</td>\n",
       "    </tr>\n",
       "    <tr>\n",
       "      <th>666</th>\n",
       "      <td>1994</td>\n",
       "      <td>797487</td>\n",
       "      <td>6066136</td>\n",
       "      <td>Grape wines(including fortified), alcoholic gr...</td>\n",
       "      <td>New Zealand</td>\n",
       "      <td>NZL</td>\n",
       "    </tr>\n",
       "    <tr>\n",
       "      <th>667</th>\n",
       "      <td>1994</td>\n",
       "      <td>0</td>\n",
       "      <td>1265</td>\n",
       "      <td>Grape wines(including fortified), alcoholic gr...</td>\n",
       "      <td>Nicaragua</td>\n",
       "      <td>NIC</td>\n",
       "    </tr>\n",
       "    <tr>\n",
       "      <th>668</th>\n",
       "      <td>1994</td>\n",
       "      <td>36100</td>\n",
       "      <td>133577</td>\n",
       "      <td>Grape wines(including fortified), alcoholic gr...</td>\n",
       "      <td>Niger</td>\n",
       "      <td>NER</td>\n",
       "    </tr>\n",
       "  </tbody>\n",
       "</table>\n",
       "</div>"
      ],
      "text/plain": [
       "     Year  Weight    Value                                          Commodity  \\\n",
       "548  1994   25596   368919  Grape wines(including fortified), alcoholic gr...   \n",
       "665  1994   38710   252695  Grape wines(including fortified), alcoholic gr...   \n",
       "666  1994  797487  6066136  Grape wines(including fortified), alcoholic gr...   \n",
       "667  1994       0     1265  Grape wines(including fortified), alcoholic gr...   \n",
       "668  1994   36100   133577  Grape wines(including fortified), alcoholic gr...   \n",
       "\n",
       "         Partner PartnerISO  \n",
       "548      Algeria        DZA  \n",
       "665      Vanuatu        VUT  \n",
       "666  New Zealand        NZL  \n",
       "667    Nicaragua        NIC  \n",
       "668        Niger        NER  "
      ]
     },
     "execution_count": 28,
     "metadata": {},
     "output_type": "execute_result"
    }
   ],
   "source": [
    "select_columns = ['Year', 'Netweight (kg)', 'Trade Value (US$)', 'Commodity', 'Partner', 'Partner ISO']\n",
    "columns_pretty = ['Year', 'Weight', 'Value', 'Commodity', 'Partner', 'PartnerISO']\n",
    "\n",
    "df_select = df[select_columns].sort_values('Year')\n",
    "df_select.columns = columns_pretty\n",
    "df_select.head(5)"
   ]
  },
  {
   "cell_type": "code",
   "execution_count": 29,
   "metadata": {
    "collapsed": true
   },
   "outputs": [],
   "source": [
    "df_select.dropna(subset=[\"PartnerISO\"], inplace=True)"
   ]
  },
  {
   "cell_type": "code",
   "execution_count": 30,
   "metadata": {
    "collapsed": true
   },
   "outputs": [],
   "source": [
    "df_select.to_csv(os.path.join(\"datasets/clean\", \"{}_clean.csv\".format(name)))"
   ]
  },
  {
   "cell_type": "code",
   "execution_count": null,
   "metadata": {
    "collapsed": true
   },
   "outputs": [],
   "source": []
  },
  {
   "cell_type": "code",
   "execution_count": null,
   "metadata": {
    "collapsed": true
   },
   "outputs": [],
   "source": []
  },
  {
   "cell_type": "code",
   "execution_count": null,
   "metadata": {
    "collapsed": true
   },
   "outputs": [],
   "source": []
  },
  {
   "cell_type": "code",
   "execution_count": null,
   "metadata": {
    "collapsed": true
   },
   "outputs": [],
   "source": []
  }
 ],
 "metadata": {
  "anaconda-cloud": {},
  "kernelspec": {
   "display_name": "Python 3",
   "language": "python",
   "name": "python3"
  },
  "language_info": {
   "codemirror_mode": {
    "name": "ipython",
    "version": 3
   },
   "file_extension": ".py",
   "mimetype": "text/x-python",
   "name": "python",
   "nbconvert_exporter": "python",
   "pygments_lexer": "ipython3",
   "version": "3.6.2"
  }
 },
 "nbformat": 4,
 "nbformat_minor": 1
}
