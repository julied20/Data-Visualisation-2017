{
 "cells": [
  {
   "cell_type": "code",
   "execution_count": 18,
   "metadata": {},
   "outputs": [
    {
     "name": "stdout",
     "output_type": "stream",
     "text": [
      "The autoreload extension is already loaded. To reload it, use:\n",
      "  %reload_ext autoreload\n"
     ]
    }
   ],
   "source": [
    "# Plot figures in the notebook (instead of a new window)\n",
    "%matplotlib notebook\n",
    "\n",
    "# Automatically reload modules\n",
    "%load_ext autoreload\n",
    "%autoreload 2        \n",
    "\n",
    "# The usual imports\n",
    "import matplotlib.pyplot as plt\n",
    "import numpy as np\n",
    "import pandas as pd\n",
    "import os"
   ]
  },
  {
   "cell_type": "code",
   "execution_count": 20,
   "metadata": {},
   "outputs": [],
   "source": [
    "name = 'belgium_beer'\n",
    "path = 'datasets/belgium_beer/'\n",
    "original_csv = ['beer_2001_2000_1999.csv', 'beer_2004_2003_2002.csv', \n",
    "                'beer_2007_2006_2005.csv', 'beer_2010_2009_2008.csv',\n",
    "                'beer_2013_2012_2011.csv', 'beer_2016_2015_2014.csv']\n",
    "all_csv = []\n",
    "for files in original_csv:\n",
    "    df = pd.read_csv(path + files,index_col=None, header=0)\n",
    "    all_csv.append(df)\n",
    "\n",
    "df = pd.concat(all_csv)"
   ]
  },
  {
   "cell_type": "code",
   "execution_count": 21,
   "metadata": {},
   "outputs": [],
   "source": [
    "final_df;"
   ]
  },
  {
   "cell_type": "code",
   "execution_count": 22,
   "metadata": {},
   "outputs": [
    {
     "data": {
      "text/html": [
       "<div>\n",
       "<style>\n",
       "    .dataframe thead tr:only-child th {\n",
       "        text-align: right;\n",
       "    }\n",
       "\n",
       "    .dataframe thead th {\n",
       "        text-align: left;\n",
       "    }\n",
       "\n",
       "    .dataframe tbody tr th {\n",
       "        vertical-align: top;\n",
       "    }\n",
       "</style>\n",
       "<table border=\"1\" class=\"dataframe\">\n",
       "  <thead>\n",
       "    <tr style=\"text-align: right;\">\n",
       "      <th></th>\n",
       "      <th>Year</th>\n",
       "      <th>Weight</th>\n",
       "      <th>Value</th>\n",
       "      <th>Commodity</th>\n",
       "      <th>Partner</th>\n",
       "      <th>PartnerISO</th>\n",
       "    </tr>\n",
       "  </thead>\n",
       "  <tbody>\n",
       "    <tr>\n",
       "      <th>0</th>\n",
       "      <td>1999</td>\n",
       "      <td>41748355.0</td>\n",
       "      <td>358626395</td>\n",
       "      <td>Beer made from malt</td>\n",
       "      <td>World</td>\n",
       "      <td>WLD</td>\n",
       "    </tr>\n",
       "    <tr>\n",
       "      <th>69</th>\n",
       "      <td>1999</td>\n",
       "      <td>36707.0</td>\n",
       "      <td>23308</td>\n",
       "      <td>Beer made from malt</td>\n",
       "      <td>Panama</td>\n",
       "      <td>PAN</td>\n",
       "    </tr>\n",
       "    <tr>\n",
       "      <th>68</th>\n",
       "      <td>1999</td>\n",
       "      <td>56820.0</td>\n",
       "      <td>68348</td>\n",
       "      <td>Beer made from malt</td>\n",
       "      <td>Norway</td>\n",
       "      <td>NOR</td>\n",
       "    </tr>\n",
       "    <tr>\n",
       "      <th>67</th>\n",
       "      <td>1999</td>\n",
       "      <td>16535.0</td>\n",
       "      <td>14319</td>\n",
       "      <td>Beer made from malt</td>\n",
       "      <td>Nigeria</td>\n",
       "      <td>NGA</td>\n",
       "    </tr>\n",
       "    <tr>\n",
       "      <th>66</th>\n",
       "      <td>1999</td>\n",
       "      <td>2379062.0</td>\n",
       "      <td>1962871</td>\n",
       "      <td>Beer made from malt</td>\n",
       "      <td>New Zealand</td>\n",
       "      <td>NZL</td>\n",
       "    </tr>\n",
       "  </tbody>\n",
       "</table>\n",
       "</div>"
      ],
      "text/plain": [
       "    Year      Weight      Value            Commodity      Partner PartnerISO\n",
       "0   1999  41748355.0  358626395  Beer made from malt        World        WLD\n",
       "69  1999     36707.0      23308  Beer made from malt       Panama        PAN\n",
       "68  1999     56820.0      68348  Beer made from malt       Norway        NOR\n",
       "67  1999     16535.0      14319  Beer made from malt      Nigeria        NGA\n",
       "66  1999   2379062.0    1962871  Beer made from malt  New Zealand        NZL"
      ]
     },
     "execution_count": 22,
     "metadata": {},
     "output_type": "execute_result"
    }
   ],
   "source": [
    "select_columns = ['Year', 'Netweight (kg)', 'Trade Value (US$)', 'Commodity', 'Partner', 'Partner ISO']\n",
    "columns_pretty = ['Year', 'Weight', 'Value', 'Commodity', 'Partner', 'PartnerISO']\n",
    "\n",
    "df_select = df[select_columns].sort_values('Year')\n",
    "df_select.columns = columns_pretty\n",
    "df_select.head(5)"
   ]
  },
  {
   "cell_type": "code",
   "execution_count": 23,
   "metadata": {
    "collapsed": true
   },
   "outputs": [],
   "source": [
    "df_select.dropna(subset=[\"PartnerISO\"], inplace=True)"
   ]
  },
  {
   "cell_type": "code",
   "execution_count": 24,
   "metadata": {
    "collapsed": true
   },
   "outputs": [],
   "source": [
    "df_select.to_csv(os.path.join(\"datasets/clean\", \"{}_clean.csv\".format(name)))"
   ]
  },
  {
   "cell_type": "code",
   "execution_count": null,
   "metadata": {
    "collapsed": true
   },
   "outputs": [],
   "source": []
  },
  {
   "cell_type": "code",
   "execution_count": null,
   "metadata": {
    "collapsed": true
   },
   "outputs": [],
   "source": []
  },
  {
   "cell_type": "code",
   "execution_count": null,
   "metadata": {
    "collapsed": true
   },
   "outputs": [],
   "source": []
  },
  {
   "cell_type": "code",
   "execution_count": null,
   "metadata": {
    "collapsed": true
   },
   "outputs": [],
   "source": []
  }
 ],
 "metadata": {
  "anaconda-cloud": {},
  "kernelspec": {
   "display_name": "Python 3",
   "language": "python",
   "name": "python3"
  },
  "language_info": {
   "codemirror_mode": {
    "name": "ipython",
    "version": 3
   },
   "file_extension": ".py",
   "mimetype": "text/x-python",
   "name": "python",
   "nbconvert_exporter": "python",
   "pygments_lexer": "ipython3",
   "version": "3.6.2"
  }
 },
 "nbformat": 4,
 "nbformat_minor": 1
}
