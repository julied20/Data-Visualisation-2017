{
 "cells": [
  {
   "cell_type": "code",
   "execution_count": 15,
   "metadata": {},
   "outputs": [
    {
     "name": "stdout",
     "output_type": "stream",
     "text": [
      "The autoreload extension is already loaded. To reload it, use:\n",
      "  %reload_ext autoreload\n"
     ]
    }
   ],
   "source": [
    "# Plot figures in the notebook (instead of a new window)\n",
    "%matplotlib notebook\n",
    "\n",
    "# Automatically reload modules\n",
    "%load_ext autoreload\n",
    "%autoreload 2        \n",
    "\n",
    "# The usual imports\n",
    "import matplotlib.pyplot as plt\n",
    "import numpy as np\n",
    "import pandas as pd\n",
    "import os"
   ]
  },
  {
   "cell_type": "code",
   "execution_count": 19,
   "metadata": {},
   "outputs": [
    {
     "data": {
      "text/plain": [
       "Index(['Classification', 'Year', 'Period', 'Period Desc.', 'Aggregate Level',\n",
       "       'Is Leaf Code', 'Trade Flow Code', 'Trade Flow', 'Reporter Code',\n",
       "       'Reporter', 'Reporter ISO', 'Partner Code', 'Partner', 'Partner ISO',\n",
       "       '2nd Partner Code', '2nd Partner', '2nd Partner ISO',\n",
       "       'Customs Proc. Code', 'Customs', 'Mode of Transport Code',\n",
       "       'Mode of Transport', 'Commodity Code', 'Commodity', 'Qty Unit Code',\n",
       "       'Qty Unit', 'Qty', 'Alt Qty Unit Code', 'Alt Qty Unit', 'Alt Qty',\n",
       "       'Netweight (kg)', 'Gross weight (kg)', 'Trade Value (US$)',\n",
       "       'CIF Trade Value (US$)', 'FOB Trade Value (US$)', 'Flag'],\n",
       "      dtype='object')"
      ]
     },
     "execution_count": 19,
     "metadata": {},
     "output_type": "execute_result"
    }
   ],
   "source": [
    "original_csv = \"france_wine_all\"\n",
    "\n",
    "df = pd.read_csv(os.path.join(\"datasets\", \"{}.csv\".format(original_csv)))\n",
    "df.columns"
   ]
  },
  {
   "cell_type": "code",
   "execution_count": 20,
   "metadata": {},
   "outputs": [
    {
     "data": {
      "text/html": [
       "<div>\n",
       "<style>\n",
       "    .dataframe thead tr:only-child th {\n",
       "        text-align: right;\n",
       "    }\n",
       "\n",
       "    .dataframe thead th {\n",
       "        text-align: left;\n",
       "    }\n",
       "\n",
       "    .dataframe tbody tr th {\n",
       "        vertical-align: top;\n",
       "    }\n",
       "</style>\n",
       "<table border=\"1\" class=\"dataframe\">\n",
       "  <thead>\n",
       "    <tr style=\"text-align: right;\">\n",
       "      <th></th>\n",
       "      <th>Year</th>\n",
       "      <th>Weight</th>\n",
       "      <th>Value</th>\n",
       "      <th>Commodity</th>\n",
       "      <th>Partner</th>\n",
       "      <th>PartnerISO</th>\n",
       "    </tr>\n",
       "  </thead>\n",
       "  <tbody>\n",
       "    <tr>\n",
       "      <th>661</th>\n",
       "      <td>1999</td>\n",
       "      <td>75538</td>\n",
       "      <td>318914</td>\n",
       "      <td>Grape wines(including fortified), alcoholic gr...</td>\n",
       "      <td>Kenya</td>\n",
       "      <td>KEN</td>\n",
       "    </tr>\n",
       "    <tr>\n",
       "      <th>637</th>\n",
       "      <td>1999</td>\n",
       "      <td>371170944</td>\n",
       "      <td>847885888</td>\n",
       "      <td>Grape wines(including fortified), alcoholic gr...</td>\n",
       "      <td>Germany</td>\n",
       "      <td>DEU</td>\n",
       "    </tr>\n",
       "    <tr>\n",
       "      <th>636</th>\n",
       "      <td>1999</td>\n",
       "      <td>35585</td>\n",
       "      <td>53720</td>\n",
       "      <td>Grape wines(including fortified), alcoholic gr...</td>\n",
       "      <td>Gambia</td>\n",
       "      <td>GMB</td>\n",
       "    </tr>\n",
       "    <tr>\n",
       "      <th>635</th>\n",
       "      <td>1999</td>\n",
       "      <td>9909</td>\n",
       "      <td>21909</td>\n",
       "      <td>Grape wines(including fortified), alcoholic gr...</td>\n",
       "      <td>Georgia</td>\n",
       "      <td>GEO</td>\n",
       "    </tr>\n",
       "    <tr>\n",
       "      <th>634</th>\n",
       "      <td>1999</td>\n",
       "      <td>797312</td>\n",
       "      <td>3470900</td>\n",
       "      <td>Grape wines(including fortified), alcoholic gr...</td>\n",
       "      <td>Gabon</td>\n",
       "      <td>GAB</td>\n",
       "    </tr>\n",
       "  </tbody>\n",
       "</table>\n",
       "</div>"
      ],
      "text/plain": [
       "     Year     Weight      Value  \\\n",
       "661  1999      75538     318914   \n",
       "637  1999  371170944  847885888   \n",
       "636  1999      35585      53720   \n",
       "635  1999       9909      21909   \n",
       "634  1999     797312    3470900   \n",
       "\n",
       "                                             Commodity  Partner PartnerISO  \n",
       "661  Grape wines(including fortified), alcoholic gr...    Kenya        KEN  \n",
       "637  Grape wines(including fortified), alcoholic gr...  Germany        DEU  \n",
       "636  Grape wines(including fortified), alcoholic gr...   Gambia        GMB  \n",
       "635  Grape wines(including fortified), alcoholic gr...  Georgia        GEO  \n",
       "634  Grape wines(including fortified), alcoholic gr...    Gabon        GAB  "
      ]
     },
     "execution_count": 20,
     "metadata": {},
     "output_type": "execute_result"
    }
   ],
   "source": [
    "select_columns = ['Year', 'Netweight (kg)', 'Trade Value (US$)', 'Commodity', 'Partner', 'Partner ISO']\n",
    "columns_pretty = ['Year', 'Weight', 'Value', 'Commodity', 'Partner', 'PartnerISO']\n",
    "\n",
    "df_select = df[select_columns].sort_values('Year')\n",
    "df_select.columns = columns_pretty\n",
    "df_select.head(5)"
   ]
  },
  {
   "cell_type": "code",
   "execution_count": 21,
   "metadata": {},
   "outputs": [],
   "source": [
    "df_select.dropna(subset=[\"PartnerISO\"], inplace=True)"
   ]
  },
  {
   "cell_type": "code",
   "execution_count": 22,
   "metadata": {},
   "outputs": [],
   "source": [
    "df_select.to_csv(os.path.join(\"datasets\", \"{}_clean.csv\".format(original_csv)))"
   ]
  },
  {
   "cell_type": "code",
   "execution_count": null,
   "metadata": {
    "collapsed": true
   },
   "outputs": [],
   "source": []
  },
  {
   "cell_type": "code",
   "execution_count": null,
   "metadata": {
    "collapsed": true
   },
   "outputs": [],
   "source": []
  },
  {
   "cell_type": "code",
   "execution_count": null,
   "metadata": {
    "collapsed": true
   },
   "outputs": [],
   "source": []
  },
  {
   "cell_type": "code",
   "execution_count": null,
   "metadata": {
    "collapsed": true
   },
   "outputs": [],
   "source": []
  }
 ],
 "metadata": {
  "anaconda-cloud": {},
  "kernelspec": {
   "display_name": "Python 3",
   "language": "python",
   "name": "python3"
  },
  "language_info": {
   "codemirror_mode": {
    "name": "ipython",
    "version": 3
   },
   "file_extension": ".py",
   "mimetype": "text/x-python",
   "name": "python",
   "nbconvert_exporter": "python",
   "pygments_lexer": "ipython3",
   "version": "3.6.2"
  }
 },
 "nbformat": 4,
 "nbformat_minor": 1
}
