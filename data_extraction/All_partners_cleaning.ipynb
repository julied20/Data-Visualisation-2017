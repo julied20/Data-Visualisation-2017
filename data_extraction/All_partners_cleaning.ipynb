{
 "cells": [
  {
   "cell_type": "code",
   "execution_count": 9,
   "metadata": {},
   "outputs": [
    {
     "name": "stdout",
     "output_type": "stream",
     "text": [
      "The autoreload extension is already loaded. To reload it, use:\n",
      "  %reload_ext autoreload\n"
     ]
    }
   ],
   "source": [
    "# Plot figures in the notebook (instead of a new window)\n",
    "%matplotlib notebook\n",
    "\n",
    "# Automatically reload modules\n",
    "%load_ext autoreload\n",
    "%autoreload 2        \n",
    "\n",
    "# The usual imports\n",
    "import matplotlib.pyplot as plt\n",
    "import numpy as np\n",
    "import pandas as pd\n",
    "import os"
   ]
  },
  {
   "cell_type": "code",
   "execution_count": 12,
   "metadata": {},
   "outputs": [],
   "source": [
    "name = 'indonesia_palm'\n",
    "path = 'datasets/indonesia_palm/'\n",
    "original_csv = ['indonesia_palm_1989_1990_1991_1992_1993.csv', 'indonesia_palm_1994_1995_1996_1997_1998.csv', \n",
    "                'indonesia_palm_1999_2000_2001_2002_2003.csv', 'indonesia_palm_2004_2005_2006_2007_2008.csv',\n",
    "                'indonesia_palm_2009_2010_2011_2012_2013.csv', 'indonesia_palm_2014_2015_2016.csv']\n",
    "all_csv = []\n",
    "for files in original_csv:\n",
    "    df = pd.read_csv(path + files,index_col=None, header=0)\n",
    "    all_csv.append(df)\n",
    "\n",
    "df = pd.concat(all_csv)"
   ]
  },
  {
   "cell_type": "code",
   "execution_count": 13,
   "metadata": {},
   "outputs": [],
   "source": [
    "df;"
   ]
  },
  {
   "cell_type": "code",
   "execution_count": 14,
   "metadata": {},
   "outputs": [
    {
     "data": {
      "text/html": [
       "<div>\n",
       "<style>\n",
       "    .dataframe thead tr:only-child th {\n",
       "        text-align: right;\n",
       "    }\n",
       "\n",
       "    .dataframe thead th {\n",
       "        text-align: left;\n",
       "    }\n",
       "\n",
       "    .dataframe tbody tr th {\n",
       "        vertical-align: top;\n",
       "    }\n",
       "</style>\n",
       "<table border=\"1\" class=\"dataframe\">\n",
       "  <thead>\n",
       "    <tr style=\"text-align: right;\">\n",
       "      <th></th>\n",
       "      <th>Year</th>\n",
       "      <th>Weight</th>\n",
       "      <th>Value</th>\n",
       "      <th>Commodity</th>\n",
       "      <th>Partner</th>\n",
       "      <th>PartnerISO</th>\n",
       "    </tr>\n",
       "  </thead>\n",
       "  <tbody>\n",
       "    <tr>\n",
       "      <th>0</th>\n",
       "      <td>1989</td>\n",
       "      <td>781852992</td>\n",
       "      <td>244356000</td>\n",
       "      <td>Palm oil and its fractions, not chemically mod...</td>\n",
       "      <td>World</td>\n",
       "      <td>WLD</td>\n",
       "    </tr>\n",
       "    <tr>\n",
       "      <th>21</th>\n",
       "      <td>1989</td>\n",
       "      <td>3003125</td>\n",
       "      <td>1108000</td>\n",
       "      <td>Palm oil and its fractions, not chemically mod...</td>\n",
       "      <td>USA</td>\n",
       "      <td>USA</td>\n",
       "    </tr>\n",
       "    <tr>\n",
       "      <th>20</th>\n",
       "      <td>1989</td>\n",
       "      <td>76662920</td>\n",
       "      <td>23330000</td>\n",
       "      <td>Palm oil and its fractions, not chemically mod...</td>\n",
       "      <td>United Kingdom</td>\n",
       "      <td>GBR</td>\n",
       "    </tr>\n",
       "    <tr>\n",
       "      <th>19</th>\n",
       "      <td>1989</td>\n",
       "      <td>15301640</td>\n",
       "      <td>4625000</td>\n",
       "      <td>Palm oil and its fractions, not chemically mod...</td>\n",
       "      <td>Fmr USSR</td>\n",
       "      <td>SUN</td>\n",
       "    </tr>\n",
       "    <tr>\n",
       "      <th>18</th>\n",
       "      <td>1989</td>\n",
       "      <td>7000000</td>\n",
       "      <td>2238000</td>\n",
       "      <td>Palm oil and its fractions, not chemically mod...</td>\n",
       "      <td>Turkey</td>\n",
       "      <td>TUR</td>\n",
       "    </tr>\n",
       "  </tbody>\n",
       "</table>\n",
       "</div>"
      ],
      "text/plain": [
       "    Year     Weight      Value  \\\n",
       "0   1989  781852992  244356000   \n",
       "21  1989    3003125    1108000   \n",
       "20  1989   76662920   23330000   \n",
       "19  1989   15301640    4625000   \n",
       "18  1989    7000000    2238000   \n",
       "\n",
       "                                            Commodity         Partner  \\\n",
       "0   Palm oil and its fractions, not chemically mod...           World   \n",
       "21  Palm oil and its fractions, not chemically mod...             USA   \n",
       "20  Palm oil and its fractions, not chemically mod...  United Kingdom   \n",
       "19  Palm oil and its fractions, not chemically mod...        Fmr USSR   \n",
       "18  Palm oil and its fractions, not chemically mod...          Turkey   \n",
       "\n",
       "   PartnerISO  \n",
       "0         WLD  \n",
       "21        USA  \n",
       "20        GBR  \n",
       "19        SUN  \n",
       "18        TUR  "
      ]
     },
     "execution_count": 14,
     "metadata": {},
     "output_type": "execute_result"
    }
   ],
   "source": [
    "select_columns = ['Year', 'Netweight (kg)', 'Trade Value (US$)', 'Commodity', 'Partner', 'Partner ISO']\n",
    "columns_pretty = ['Year', 'Weight', 'Value', 'Commodity', 'Partner', 'PartnerISO']\n",
    "\n",
    "df_select = df[select_columns].sort_values('Year')\n",
    "df_select.columns = columns_pretty\n",
    "df_select.head(5)"
   ]
  },
  {
   "cell_type": "code",
   "execution_count": 15,
   "metadata": {
    "collapsed": true
   },
   "outputs": [],
   "source": [
    "df_select.dropna(subset=[\"PartnerISO\"], inplace=True)"
   ]
  },
  {
   "cell_type": "code",
   "execution_count": 16,
   "metadata": {
    "collapsed": true
   },
   "outputs": [],
   "source": [
    "df_select.to_csv(os.path.join(\"datasets/clean\", \"{}_clean.csv\".format(name)))"
   ]
  },
  {
   "cell_type": "code",
   "execution_count": null,
   "metadata": {
    "collapsed": true
   },
   "outputs": [],
   "source": []
  },
  {
   "cell_type": "code",
   "execution_count": null,
   "metadata": {
    "collapsed": true
   },
   "outputs": [],
   "source": []
  },
  {
   "cell_type": "code",
   "execution_count": null,
   "metadata": {
    "collapsed": true
   },
   "outputs": [],
   "source": []
  },
  {
   "cell_type": "code",
   "execution_count": null,
   "metadata": {
    "collapsed": true
   },
   "outputs": [],
   "source": []
  }
 ],
 "metadata": {
  "anaconda-cloud": {},
  "kernelspec": {
   "display_name": "Python 3",
   "language": "python",
   "name": "python3"
  },
  "language_info": {
   "codemirror_mode": {
    "name": "ipython",
    "version": 3
   },
   "file_extension": ".py",
   "mimetype": "text/x-python",
   "name": "python",
   "nbconvert_exporter": "python",
   "pygments_lexer": "ipython3",
   "version": "3.6.2"
  }
 },
 "nbformat": 4,
 "nbformat_minor": 1
}
